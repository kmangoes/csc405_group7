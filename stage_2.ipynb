{
 "cells": [
  {
   "cell_type": "code",
   "execution_count": 83,
   "id": "6813138c-dbf5-4abb-ba0a-e94e68b9a7a1",
   "metadata": {},
   "outputs": [],
   "source": [
    "import pandas as pd\n",
    "import numpy as np \n",
    "import matplotlib.pyplot as plt"
   ]
  },
  {
   "cell_type": "markdown",
   "id": "210d7415-03f9-421d-b9a0-a30830464ead",
   "metadata": {
    "editable": true,
    "slideshow": {
     "slide_type": ""
    },
    "tags": []
   },
   "source": [
    "#### Task 1: Descriptive Statistics \n",
    "\n",
    "- Review the features you explored in stage I (at least 3 features per team, at least two features are numerical - continuous/discrete); if there is no numerical feature, revisit the original dataset and select a suitable and meaningful numerical feature.\n",
    "- Categorical features can still be included, but they must be encoded into numeric form (e.g., gender → 0/1)"
   ]
  },
  {
   "cell_type": "code",
   "execution_count": 84,
   "id": "6bb95f0d-c73c-412a-921f-bcb67e20e005",
   "metadata": {
    "scrolled": true
   },
   "outputs": [],
   "source": [
    "df = pd.read_csv('newdata (2).csv')"
   ]
  },
  {
   "cell_type": "markdown",
   "id": "2f34c7b2-67bc-439f-a070-f4266333ee9b",
   "metadata": {},
   "source": [
    "- PART A: Calculate the selected features mean, median, variance, skewness and kurtosis. "
   ]
  },
  {
   "cell_type": "code",
   "execution_count": 85,
   "id": "9f612703-f5b9-4a06-a9af-13d8aa4f1043",
   "metadata": {},
   "outputs": [
    {
     "name": "stdout",
     "output_type": "stream",
     "text": [
      "The mean tempo is: 122.3081\n",
      "The mean song duration in milliseconds is: 228090.1387\n",
      "The average number of award-winning songs is: 0.0278\n"
     ]
    }
   ],
   "source": [
    "# calculated means\n",
    "mean_tempo = df['tempo'].mean()\n",
    "print(f\"The mean tempo is: {mean_tempo:.4f}\")\n",
    "mean_durat_ms = df['duration_ms'].mean()\n",
    "print(f\"The mean song duration in milliseconds is: {mean_durat_ms:.4f}\")\n",
    "mean_winner = df['winner'].mean()\n",
    "print(f\"The average number of award-winning songs is: {mean_winner:.4f}\")"
   ]
  },
  {
   "cell_type": "code",
   "execution_count": 86,
   "id": "1b0431af-fae7-4769-8bfa-703dc5cfdef6",
   "metadata": {},
   "outputs": [
    {
     "name": "stdout",
     "output_type": "stream",
     "text": [
      "The median tempo is: 122.02\n",
      "The median duration in milliseconds is: 213013.0\n",
      "The median winning song is: 0.0\n"
     ]
    }
   ],
   "source": [
    "#calculated medians\n",
    "median_tempo = df['tempo'].median()\n",
    "print(f\"The median tempo is: {median_tempo}\")\n",
    "median_durat_ms = df['duration_ms'].median()\n",
    "print(f\"The median duration in milliseconds is: {median_durat_ms}\")\n",
    "median_winner = df['winner'].median()\n",
    "print(f\"The median winning song is: {median_winner}\") #i.e., the middle song in the dataset did not win an award"
   ]
  },
  {
   "cell_type": "code",
   "execution_count": 87,
   "id": "d59dd9e9-d01f-4327-881d-7de23f8b77a8",
   "metadata": {},
   "outputs": [
    {
     "name": "stdout",
     "output_type": "stream",
     "text": [
      "The variance of tempo: 878.8351\n",
      "The variance of song duration: 11252108517.4830\n",
      "The variance of award-winning songs: 0.0271\n"
     ]
    }
   ],
   "source": [
    "#calculated variance with x = df['column_name'].var()\n",
    "var_tempo = df['tempo'].var()\n",
    "print(f\"The variance of tempo: {var_tempo:.4f}\")\n",
    "var_durat_ms = df['duration_ms'].var()\n",
    "print(f\"The variance of song duration: {var_durat_ms:.4f}\")\n",
    "var_winner = df['winner'].var()\n",
    "print(f\"The variance of award-winning songs: {var_winner:.4f}\")"
   ]
  },
  {
   "cell_type": "code",
   "execution_count": 88,
   "id": "200eb8f9-e18b-410b-b7ab-1e83dd31a80b",
   "metadata": {},
   "outputs": [
    {
     "name": "stdout",
     "output_type": "stream",
     "text": [
      "The skew of song tempo is: 0.3204\n",
      "The skew of song duration in seconds is: 10.9618\n",
      "The skew of winning songs is: 5.7409\n"
     ]
    }
   ],
   "source": [
    "#calculated skewness with x = df['column_name'].skew()\n",
    "skew_tempo = df['tempo'].skew()\n",
    "print(f\"The skew of song tempo is: {skew_tempo:.4f}\")\n",
    "skew_durat_ms = df['duration_ms'].skew()\n",
    "print(f\"The skew of song duration in seconds is: {skew_durat_ms:.4f}\")\n",
    "skew_winner = df['winner'].skew()\n",
    "print(f\"The skew of winning songs is: {skew_winner:.4f}\")"
   ]
  },
  {
   "cell_type": "code",
   "execution_count": 89,
   "id": "315b0efc-82bd-439e-8910-13ca1674a394",
   "metadata": {},
   "outputs": [
    {
     "name": "stdout",
     "output_type": "stream",
     "text": [
      "The skew of song tempo is: -0.3786\n",
      "The skew of song duration in seconds is: 351.7612\n",
      "The skew of winning songs is: 30.9580\n"
     ]
    }
   ],
   "source": [
    "#calculated kurtosis with x = df['column_name'].kurtosis()\n",
    "kurt_tempo = df['tempo'].kurtosis()\n",
    "print(f\"The skew of song tempo is: {kurt_tempo:.4f}\")\n",
    "kurt_durat_ms = df['duration_ms'].kurtosis()\n",
    "print(f\"The skew of song duration in seconds is: {kurt_durat_ms:.4f}\")\n",
    "kurt_winner = df['winner'].kurtosis()\n",
    "print(f\"The skew of winning songs is: {kurt_winner:.4f}\")"
   ]
  },
  {
   "cell_type": "markdown",
   "id": "eaa614a3-2df5-48cf-95a0-d73f950ea02e",
   "metadata": {},
   "source": [
    "- PART B\n",
    "- 1. identify type of data (**categorical or numerical**) of each feature. if numerical, **continuous or discrete**?\n",
    "  2. summarize your findings"
   ]
  },
  {
   "cell_type": "markdown",
   "id": "30292fd5-a0d0-49d2-8587-f17305a851a6",
   "metadata": {},
   "source": [
    "**- Tempo Feature: Numerical & Continuous**\n",
    "\n",
    "Based off the median value for tempo (which is in BPM) and our returned value for skewness, we can see that the average BPM of 120-122 BPM is extremely common and consistent across the dataset. A negative kurtosis value tells us that there aren't many outliers in the spread. \n",
    "\n",
    "**- Duration_ms Feature: Numerical & Continuous**\n",
    "\n",
    "At first glance, due to how large the kurtosis and skewness values are, it would look like the duration of songs is extremely spread out, with extreme outliers and peak values. However, due to the dataset recording time in milliseconds, even large values between rows on the duration feature are likely only a few seconds. Based off the distance between the mean and median, we can suggest that the data is skewed right because of the larger mean value.\n",
    "    \n",
    "**- Winner Feature: Categorical**\n",
    "\n",
    "From our first calculation of the mean of winning songs, we can see that songs winning awards is the outlier value, as opposed to not winning. This in turn influences the returned value we get calculating the winner feature's kurtosis, which has a relatively high value in spite of there only being two possible values for the winner feature. We should note to not base any inferences strongly off of elements like median when it comes to the winner feature, because it again only has two possible values.\n",
    "  "
   ]
  },
  {
   "cell_type": "markdown",
   "id": "44204f4c-ba34-453f-b1be-e5e4324c3174",
   "metadata": {},
   "source": [
    "#### Task 2: Distribution Fitting "
   ]
  },
  {
   "cell_type": "markdown",
   "id": "223266af-58e9-485c-8915-6ac3e96cc512",
   "metadata": {},
   "source": [
    "- PART A: Select one suitable numerical feature from task 1. Propose a theoretical distribution (Normal, Binomial, Poisson, Exponential, Geometric, etc.) and explain why you choose it."
   ]
  },
  {
   "cell_type": "markdown",
   "id": "1ba55b4a-0c65-4426-a483-766d44179d3b",
   "metadata": {},
   "source": [
    "**- Chosen Numerical Feature: Tempo**"
   ]
  },
  {
   "cell_type": "markdown",
   "id": "c50fbf4c-84d0-43f3-857c-06800da95149",
   "metadata": {},
   "source": [
    "**- Proposed Theoretical Distribution: Normal Distribution**\n",
    "- We chose this distribution for the Tempo Feature based off of its values for the mean and median. Because they are so close to each other in value, they are best-suited to a Normal Distribution."
   ]
  },
  {
   "cell_type": "code",
   "execution_count": null,
   "id": "800edb30-4e65-4acb-a02c-07979432bc71",
   "metadata": {},
   "outputs": [],
   "source": []
  },
  {
   "cell_type": "markdown",
   "id": "5113f36d-f4ab-4fc6-a34e-f69bfe78dfb7",
   "metadata": {},
   "source": [
    "- PART B: Plot histogram of your feature, overlay a smooth curve of the fitted theoretical distribution. Discuss how your data fits the distribution."
   ]
  },
  {
   "cell_type": "code",
   "execution_count": 99,
   "id": "084c7bdf-572a-4709-aafe-0b69a271957d",
   "metadata": {},
   "outputs": [
    {
     "data": {
      "text/plain": [
       "Text(0, 0.5, 'Frequency')"
      ]
     },
     "execution_count": 99,
     "metadata": {},
     "output_type": "execute_result"
    },
    {
     "data": {
      "image/png": "[encoded data removed]",
      "text/plain": [
       "<Figure size 640x480 with 1 Axes>"
      ]
     },
     "metadata": {},
     "output_type": "display_data"
    }
   ],
   "source": [
    "tempo = df['tempo']\n",
    "plt.hist(tempo, bins=338, color=\"yellow\", edgecolor=\"black\")\n",
    "plt.title(\"Histogram of Tempo Feat.\")\n",
    "plt.xlabel(\"Value\")\n",
    "plt.ylabel(\"Frequency\")"
   ]
  },
  {
   "cell_type": "markdown",
   "id": "f1abbb7b-82af-49b0-b213-7c34dd70e4c5",
   "metadata": {},
   "source": [
    "#### Task 3: Point Estimate\n",
    "- PART A: Randomly select 100 samples from the feature selected in Task 2, caculate the sample mean and variance. Compare with the population mean and variance."
   ]
  },
  {
   "cell_type": "code",
   "execution_count": 126,
   "id": "c221ddab-adac-4970-bc50-132c5e5334dd",
   "metadata": {},
   "outputs": [
    {
     "name": "stdout",
     "output_type": "stream",
     "text": [
      "119.40987000000004   685.5299258516164\n"
     ]
    }
   ],
   "source": [
    "sample = tempo.sample(n=100)\n",
    "print(sample.mean(), \" \", sample.var())"
   ]
  },
  {
   "cell_type": "markdown",
   "id": "44e7901a-bf5e-430e-bb32-021072da7aca",
   "metadata": {},
   "source": [
    "Both the sample mean and sample variance are extremely close to the population mean and variance (122 and 878, respectively). In the case of the mean, where they are nearly the same value,  the sample is representative of the population as a whole. In the case of the variance, the sample variance is high, similarly to the population. This means there's a large dispersion of numbers in the sample. "
   ]
  },
  {
   "cell_type": "markdown",
   "id": "c73c6506-1609-4670-9ae6-ba1d63b01565",
   "metadata": {},
   "source": [
    "- PART B: Repeat the random sampling 3 times and show how sample mean/variance vary due to randomness. Discuss your findings."
   ]
  },
  {
   "cell_type": "code",
   "execution_count": 137,
   "id": "a6af7099-5e97-476e-8d67-2d2989273eea",
   "metadata": {},
   "outputs": [
    {
     "name": "stdout",
     "output_type": "stream",
     "text": [
      "122.36865000000002   695.6633544722225\n",
      "121.16050000000001   723.1116896868687\n",
      "127.40277   914.5247764011108\n"
     ]
    }
   ],
   "source": [
    "sample_2 = tempo.sample(n=100)\n",
    "print(sample_2.mean(), \" \", sample_2.var())\n",
    "sample_3 = tempo.sample(n=100)\n",
    "print(sample_3.mean(), \" \", sample_3.var())\n",
    "sample_4 = tempo.sample(n=100)\n",
    "print(sample_4.mean(), \" \", sample_4.var())"
   ]
  },
  {
   "cell_type": "markdown",
   "id": "c7b44f64-3c86-43ff-8e13-4f746163439b",
   "metadata": {},
   "source": [
    "In the case of the mean, every random sample returns very close values to the population mean. This means that any random sample would be representative of the population mean. In the case of the variance, there is a greater dispersion of values, roughly between the 600-1000 range. Since the population variance is a value of 878, "
   ]
  }
 ],
 "metadata": {
  "kernelspec": {
   "display_name": "anaconda-panel-2023.05-py310",
   "language": "python",
   "name": "conda-env-anaconda-panel-2023.05-py310-py"
  },
  "language_info": {
   "codemirror_mode": {
    "name": "ipython",
    "version": 3
   },
   "file_extension": ".py",
   "mimetype": "text/x-python",
   "name": "python",
   "nbconvert_exporter": "python",
   "pygments_lexer": "ipython3",
   "version": "3.11.5"
  }
 },
 "nbformat": 4,
 "nbformat_minor": 5
}
