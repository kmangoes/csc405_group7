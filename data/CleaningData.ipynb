{
 "cells": [
  {
   "cell_type": "code",
   "execution_count": 44,
   "id": "5f76931c-fca7-47a4-9910-712f0345cee8",
   "metadata": {},
   "outputs": [],
   "source": [
    "import pandas as pd"
   ]
  },
  {
   "cell_type": "markdown",
   "id": "54b152b2-97bd-447c-8f27-bca18778e2e0",
   "metadata": {},
   "source": [
    "# Read Raw Data"
   ]
  },
  {
   "cell_type": "code",
   "execution_count": 65,
   "id": "9d132491-7f74-4429-aedb-c8b920e48dd6",
   "metadata": {},
   "outputs": [],
   "source": [
    "df = pd.read_csv('dataset.csv')"
   ]
  },
  {
   "cell_type": "markdown",
   "id": "a7ba2610-e4e8-4b46-9966-ad03c6bd5cfa",
   "metadata": {},
   "source": [
    "# Removing unused columns"
   ]
  },
  {
   "cell_type": "markdown",
   "id": "a8a937b8-c994-4fbf-8875-090b7f102ddd",
   "metadata": {},
   "source": [
    "By removing the unused columns we are shortening the data and making it easier to parse through"
   ]
  },
  {
   "cell_type": "code",
   "execution_count": 66,
   "id": "3bff2429-663d-438f-ba19-258d1b6c537f",
   "metadata": {},
   "outputs": [],
   "source": [
    "    df = df.drop(columns=['liveness'])"
   ]
  },
  {
   "cell_type": "code",
   "execution_count": 67,
   "id": "247a37d1-dbad-42f7-b9db-32f296e4e3f2",
   "metadata": {},
   "outputs": [],
   "source": [
    "    df = df.drop(columns=['instrumentalness'])"
   ]
  },
  {
   "cell_type": "code",
   "execution_count": 68,
   "id": "f2c279a1-112a-4de7-9851-b07628bb350e",
   "metadata": {},
   "outputs": [],
   "source": [
    "    df = df.drop(columns=['acousticness'])"
   ]
  },
  {
   "cell_type": "code",
   "execution_count": 69,
   "id": "388deb70-6be2-4cbe-97c5-46aed35096a5",
   "metadata": {},
   "outputs": [],
   "source": [
    "    df = df.drop(columns=['track_id'])"
   ]
  },
  {
   "cell_type": "code",
   "execution_count": 70,
   "id": "3994b154-f1ae-433c-81aa-40be0611b67e",
   "metadata": {},
   "outputs": [],
   "source": [
    "    df = df.drop(columns=['mode'])"
   ]
  },
  {
   "cell_type": "code",
   "execution_count": 71,
   "id": "4d772aa8-b13a-4eb3-ad61-d88c583a5862",
   "metadata": {},
   "outputs": [],
   "source": [
    "    df = df.drop(columns=['loudness'])"
   ]
  },
  {
   "cell_type": "code",
   "execution_count": 72,
   "id": "a88ca0f2-cb29-4850-8dee-9293b13be437",
   "metadata": {},
   "outputs": [],
   "source": [
    "    df = df.drop(columns=['key'])"
   ]
  },
  {
   "cell_type": "code",
   "execution_count": 73,
   "id": "5eb51c75-7a52-4449-a27b-a8764b7f6c11",
   "metadata": {},
   "outputs": [],
   "source": [
    "    df = df.drop(columns=['energy'])"
   ]
  },
  {
   "cell_type": "code",
   "execution_count": 74,
   "id": "94aaff62-e667-4a60-9dae-23aad9a48787",
   "metadata": {},
   "outputs": [],
   "source": [
    "    df = df.drop(columns=['album_name'])"
   ]
  },
  {
   "cell_type": "code",
   "execution_count": 75,
   "id": "1637a8c3-0c5a-4ca8-b548-3cba521dfe7d",
   "metadata": {},
   "outputs": [],
   "source": [
    "    df = df.drop(columns=['speechiness'])"
   ]
  },
  {
   "cell_type": "markdown",
   "id": "258c78ff-e883-4444-bb27-260feae84ea2",
   "metadata": {},
   "source": [
    "# Removing rows with zeros"
   ]
  },
  {
   "cell_type": "markdown",
   "id": "f20ffff7-e6b1-47c5-9dcb-b2d5d43e7998",
   "metadata": {},
   "source": [
    "We remove all zeros from the dataset because they represent missing values"
   ]
  },
  {
   "cell_type": "markdown",
   "id": "833ae3fc-7a56-47c0-9a57-3e7338e99544",
   "metadata": {},
   "source": [
    "Zeros have the ability to skew the  data"
   ]
  },
  {
   "cell_type": "code",
   "execution_count": 76,
   "id": "060c6d78-d857-40dd-912b-64c9a9f3da80",
   "metadata": {},
   "outputs": [],
   "source": [
    "df_cleaned = df[df['popularity'] != 0]"
   ]
  },
  {
   "cell_type": "code",
   "execution_count": 77,
   "id": "945963d6-fd5f-4f4a-97eb-b5368a106bb3",
   "metadata": {},
   "outputs": [],
   "source": [
    "df_cleaned = df[df['duration_ms'] != 0]"
   ]
  },
  {
   "cell_type": "code",
   "execution_count": 78,
   "id": "2eab9994-c0d6-47b8-815e-c94f266382e5",
   "metadata": {},
   "outputs": [],
   "source": [
    "df_cleaned = df[df['valence'] != 0]"
   ]
  },
  {
   "cell_type": "code",
   "execution_count": 79,
   "id": "233cc852-ae4a-4721-8e04-a3d07d693b17",
   "metadata": {},
   "outputs": [],
   "source": [
    "df_cleaned = df[df['danceability'] != 0]"
   ]
  },
  {
   "cell_type": "code",
   "execution_count": 80,
   "id": "a50dee7c-1c3e-4364-bc7a-6601ea5f4145",
   "metadata": {},
   "outputs": [],
   "source": [
    "df_cleaned = df[df['time_signature'] != 0]"
   ]
  },
  {
   "cell_type": "code",
   "execution_count": 81,
   "id": "2727bcca-3a52-4114-a243-46219aa6e982",
   "metadata": {},
   "outputs": [],
   "source": [
    "df_cleaned = df[df['tempo'] != 0]"
   ]
  },
  {
   "cell_type": "code",
   "execution_count": 82,
   "id": "28b5f1f0-d753-4e3e-9793-1945b587f4ad",
   "metadata": {},
   "outputs": [],
   "source": [
    "df_cleaned.to_csv('newdata.csv', index=False)"
   ]
  }
 ],
 "metadata": {
  "kernelspec": {
   "display_name": "Python [conda env:base] *",
   "language": "python",
   "name": "conda-base-py"
  },
  "language_info": {
   "codemirror_mode": {
    "name": "ipython",
    "version": 3
   },
   "file_extension": ".py",
   "mimetype": "text/x-python",
   "name": "python",
   "nbconvert_exporter": "python",
   "pygments_lexer": "ipython3",
   "version": "3.13.5"
  }
 },
 "nbformat": 4,
 "nbformat_minor": 5
}
