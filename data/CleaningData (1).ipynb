{
 "cells": [
  {
   "cell_type": "code",
   "execution_count": 147,
   "id": "5f76931c-fca7-47a4-9910-712f0345cee8",
   "metadata": {},
   "outputs": [],
   "source": [
    "import pandas as pd"
   ]
  },
  {
   "cell_type": "markdown",
   "id": "54b152b2-97bd-447c-8f27-bca18778e2e0",
   "metadata": {},
   "source": [
    "# Read Raw Data"
   ]
  },
  {
   "cell_type": "code",
   "execution_count": 148,
   "id": "9d132491-7f74-4429-aedb-c8b920e48dd6",
   "metadata": {},
   "outputs": [],
   "source": [
    "df = pd.read_csv('dataset.csv')"
   ]
  },
  {
   "cell_type": "code",
   "execution_count": 149,
   "id": "38f971d3-a710-4fd8-bd68-0b51ef0bb3d0",
   "metadata": {},
   "outputs": [],
   "source": [
    "df2 = pd.read_csv('the_grammy_awards.csv')"
   ]
  },
  {
   "cell_type": "markdown",
   "id": "a7ba2610-e4e8-4b46-9966-ad03c6bd5cfa",
   "metadata": {},
   "source": [
    "# Removing unused columns"
   ]
  },
  {
   "cell_type": "markdown",
   "id": "a8a937b8-c994-4fbf-8875-090b7f102ddd",
   "metadata": {},
   "source": [
    "By removing the unused columns we are shortening the data and making it easier to parse through"
   ]
  },
  {
   "cell_type": "code",
   "execution_count": 150,
   "id": "3bff2429-663d-438f-ba19-258d1b6c537f",
   "metadata": {},
   "outputs": [],
   "source": [
    "    df = df.drop(columns=['liveness'])"
   ]
  },
  {
   "cell_type": "code",
   "execution_count": 151,
   "id": "247a37d1-dbad-42f7-b9db-32f296e4e3f2",
   "metadata": {},
   "outputs": [],
   "source": [
    "    df = df.drop(columns=['instrumentalness'])"
   ]
  },
  {
   "cell_type": "code",
   "execution_count": 152,
   "id": "f2c279a1-112a-4de7-9851-b07628bb350e",
   "metadata": {},
   "outputs": [],
   "source": [
    "    df = df.drop(columns=['acousticness'])"
   ]
  },
  {
   "cell_type": "code",
   "execution_count": 153,
   "id": "388deb70-6be2-4cbe-97c5-46aed35096a5",
   "metadata": {},
   "outputs": [],
   "source": [
    "    df = df.drop(columns=['track_id'])"
   ]
  },
  {
   "cell_type": "code",
   "execution_count": 154,
   "id": "3994b154-f1ae-433c-81aa-40be0611b67e",
   "metadata": {},
   "outputs": [],
   "source": [
    "    df = df.drop(columns=['mode'])"
   ]
  },
  {
   "cell_type": "code",
   "execution_count": 155,
   "id": "4d772aa8-b13a-4eb3-ad61-d88c583a5862",
   "metadata": {},
   "outputs": [],
   "source": [
    "    df = df.drop(columns=['loudness'])"
   ]
  },
  {
   "cell_type": "code",
   "execution_count": 156,
   "id": "a88ca0f2-cb29-4850-8dee-9293b13be437",
   "metadata": {},
   "outputs": [],
   "source": [
    "    df = df.drop(columns=['key'])"
   ]
  },
  {
   "cell_type": "code",
   "execution_count": 157,
   "id": "5eb51c75-7a52-4449-a27b-a8764b7f6c11",
   "metadata": {},
   "outputs": [],
   "source": [
    "    df = df.drop(columns=['energy'])"
   ]
  },
  {
   "cell_type": "code",
   "execution_count": 158,
   "id": "94aaff62-e667-4a60-9dae-23aad9a48787",
   "metadata": {},
   "outputs": [],
   "source": [
    "    df = df.drop(columns=['album_name'])"
   ]
  },
  {
   "cell_type": "code",
   "execution_count": 159,
   "id": "1637a8c3-0c5a-4ca8-b548-3cba521dfe7d",
   "metadata": {},
   "outputs": [],
   "source": [
    "    df = df.drop(columns=['speechiness'])"
   ]
  },
  {
   "cell_type": "code",
   "execution_count": 160,
   "id": "dc1db360-a950-40fa-916d-309cfd7e5a63",
   "metadata": {},
   "outputs": [],
   "source": [
    "    df2 = df2.drop(columns=['img'])"
   ]
  },
  {
   "cell_type": "code",
   "execution_count": 161,
   "id": "b32ca761-6ef4-46c2-ae2a-9f4d87ec0ee2",
   "metadata": {},
   "outputs": [],
   "source": [
    "    df2 = df2.drop(columns=['workers'])"
   ]
  },
  {
   "cell_type": "code",
   "execution_count": 162,
   "id": "b197caad-683a-4919-8744-60618c367efc",
   "metadata": {},
   "outputs": [],
   "source": [
    "    df2 = df2.drop(columns=['published_at'])"
   ]
  },
  {
   "cell_type": "code",
   "execution_count": 163,
   "id": "634bc39f-8d93-4827-894c-9796edb82be9",
   "metadata": {},
   "outputs": [],
   "source": [
    "    df2 = df2.drop(columns=['updated_at'])"
   ]
  },
  {
   "cell_type": "code",
   "execution_count": 164,
   "id": "acf537c8-dbd0-4292-8c3e-38bdfafc5b0a",
   "metadata": {},
   "outputs": [],
   "source": [
    "    df2 = df2.drop(columns=['artist'])"
   ]
  },
  {
   "cell_type": "code",
   "execution_count": 165,
   "id": "3f12cf5d-2b68-4e64-a827-6b59dde00704",
   "metadata": {},
   "outputs": [],
   "source": [
    "    df2 = df2.drop(columns=['title'])"
   ]
  },
  {
   "cell_type": "code",
   "execution_count": 166,
   "id": "c87ce86d-cbef-4af6-b76b-93d0f71fb922",
   "metadata": {},
   "outputs": [],
   "source": [
    "    df2 = df2.drop(columns=['year'])"
   ]
  },
  {
   "cell_type": "markdown",
   "id": "258c78ff-e883-4444-bb27-260feae84ea2",
   "metadata": {},
   "source": [
    "# Removing rows with zeros"
   ]
  },
  {
   "cell_type": "markdown",
   "id": "f20ffff7-e6b1-47c5-9dcb-b2d5d43e7998",
   "metadata": {},
   "source": [
    "We remove all zeros from the dataset because they represent missing values"
   ]
  },
  {
   "cell_type": "markdown",
   "id": "833ae3fc-7a56-47c0-9a57-3e7338e99544",
   "metadata": {},
   "source": [
    "Zeros have the ability to skew the  data"
   ]
  },
  {
   "cell_type": "code",
   "execution_count": 167,
   "id": "060c6d78-d857-40dd-912b-64c9a9f3da80",
   "metadata": {},
   "outputs": [],
   "source": [
    "df_cleaned = df[df['popularity'] != 0]"
   ]
  },
  {
   "cell_type": "code",
   "execution_count": 168,
   "id": "945963d6-fd5f-4f4a-97eb-b5368a106bb3",
   "metadata": {},
   "outputs": [],
   "source": [
    "df_cleaned = df[df['duration_ms'] != 0]"
   ]
  },
  {
   "cell_type": "code",
   "execution_count": 169,
   "id": "2eab9994-c0d6-47b8-815e-c94f266382e5",
   "metadata": {},
   "outputs": [],
   "source": [
    "df_cleaned = df[df['valence'] != 0]"
   ]
  },
  {
   "cell_type": "code",
   "execution_count": 170,
   "id": "233cc852-ae4a-4721-8e04-a3d07d693b17",
   "metadata": {},
   "outputs": [],
   "source": [
    "df_cleaned = df[df['danceability'] != 0]"
   ]
  },
  {
   "cell_type": "code",
   "execution_count": 171,
   "id": "a50dee7c-1c3e-4364-bc7a-6601ea5f4145",
   "metadata": {},
   "outputs": [],
   "source": [
    "df_cleaned = df[df['time_signature'] != 0]"
   ]
  },
  {
   "cell_type": "code",
   "execution_count": 172,
   "id": "2727bcca-3a52-4114-a243-46219aa6e982",
   "metadata": {},
   "outputs": [],
   "source": [
    "df_cleaned = df[df['tempo'] != 0]"
   ]
  },
  {
   "cell_type": "markdown",
   "id": "5f0acc31-c965-45d6-928b-595caa7ad493",
   "metadata": {},
   "source": [
    "# Merge the two tables"
   ]
  },
  {
   "cell_type": "markdown",
   "id": "ef22d1b2-7334-484c-9693-60f515e9057f",
   "metadata": {},
   "source": [
    "* Merge the two files based on the 'nominee' column and the 'trak_name column\n",
    "* Then dropping the 'nominee' column to remove the duplacate name\n",
    "* Any rows that didnt win will have false while row that did will have true"
   ]
  },
  {
   "cell_type": "code",
   "execution_count": 189,
   "id": "3547177f-abab-4642-b198-eebbe34193f3",
   "metadata": {},
   "outputs": [],
   "source": [
    "merged = df_cleaned.merge(df2[['nominee', 'winner']], how=\"left\", left_on=[\"track_name\"], right_on=[\"nominee\"]\n",
    ")"
   ]
  },
  {
   "cell_type": "code",
   "execution_count": 190,
   "id": "68103d2b-f252-4c94-a58d-2af7f1c4743d",
   "metadata": {},
   "outputs": [],
   "source": [
    "merged = merged.drop(columns=[\"nominee\"])"
   ]
  },
  {
   "cell_type": "code",
   "execution_count": 193,
   "id": "d218346f-92ba-4957-b48b-de64e2d249ad",
   "metadata": {},
   "outputs": [],
   "source": [
    "merged[\"winner\"] = merged[\"winner\"].fillna('False')"
   ]
  },
  {
   "cell_type": "code",
   "execution_count": 194,
   "id": "82c24d6f-2965-4892-b89d-f9eecae7a3da",
   "metadata": {},
   "outputs": [],
   "source": [
    "merged.to_csv('newdata.csv', index=False)"
   ]
  },
  {
   "cell_type": "code",
   "execution_count": null,
   "id": "3085e79e-f3ea-4f57-a7ae-2998831fbd1a",
   "metadata": {},
   "outputs": [],
   "source": []
  }
 ],
 "metadata": {
  "kernelspec": {
   "display_name": "Python [conda env:base] *",
   "language": "python",
   "name": "conda-base-py"
  },
  "language_info": {
   "codemirror_mode": {
    "name": "ipython",
    "version": 3
   },
   "file_extension": ".py",
   "mimetype": "text/x-python",
   "name": "python",
   "nbconvert_exporter": "python",
   "pygments_lexer": "ipython3",
   "version": "3.13.5"
  }
 },
 "nbformat": 4,
 "nbformat_minor": 5
}
